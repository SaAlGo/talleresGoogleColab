{
  "nbformat": 4,
  "nbformat_minor": 0,
  "metadata": {
    "colab": {
      "provenance": [],
      "authorship_tag": "ABX9TyNKZILff36UuHrq61btUAXa",
      "include_colab_link": true
    },
    "kernelspec": {
      "name": "python3",
      "display_name": "Python 3"
    },
    "language_info": {
      "name": "python"
    }
  },
  "cells": [
    {
      "cell_type": "markdown",
      "metadata": {
        "id": "view-in-github",
        "colab_type": "text"
      },
      "source": [
        "<a href=\"https://colab.research.google.com/github/SaAlGo/talleresGoogleColab/blob/main/IO1ejemplo.ipynb\" target=\"_parent\"><img src=\"https://colab.research.google.com/assets/colab-badge.svg\" alt=\"Open In Colab\"/></a>"
      ]
    },
    {
      "cell_type": "markdown",
      "source": [
        "## Esto es un subtitulo\n",
        "Ejemplo **de** *clase*\n",
        "\n",
        "[chatgpt](https://chat.openai.com/c/e95d59c3-a83e-4d68-b38a-da6edc63e125)"
      ],
      "metadata": {
        "id": "7W2Y_A68niPz"
      }
    },
    {
      "cell_type": "code",
      "source": [
        "print()"
      ],
      "metadata": {
        "id": "5I1EZ4hQn-0t"
      },
      "execution_count": null,
      "outputs": []
    }
  ]
}